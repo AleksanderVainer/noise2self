{
 "cells": [
  {
   "cell_type": "markdown",
   "metadata": {},
   "source": [
    "# Noise2Self for Astro"
   ]
  },
  {
   "cell_type": "markdown",
   "metadata": {},
   "source": [
    "In astronomy datasets, one often acquires many images of the same part of the sky, with different shot, read-out, cosmic ray, and detector noise. Instead of averaging those images, we may train a network to predict one from the other. The resulting output will be a denoised image.\n",
    "\n",
    "In the simplest case, we have two or more images, and we may use one two predict the other (the Noise2Noise regime). Given more images, we may design a more complicated architecture to take advantage of their multiplicity (instead of merely averaging them to make pairs)."
   ]
  },
  {
   "cell_type": "code",
   "execution_count": 1,
   "metadata": {},
   "outputs": [],
   "source": [
    "%load_ext autoreload\n",
    "%autoreload 2"
   ]
  },
  {
   "cell_type": "code",
   "execution_count": 2,
   "metadata": {},
   "outputs": [],
   "source": [
    "import sys\n",
    "sys.path.append(\"..\")"
   ]
  },
  {
   "cell_type": "code",
   "execution_count": 3,
   "metadata": {},
   "outputs": [],
   "source": [
    "from util import show, plot_images, plot_tensors"
   ]
  },
  {
   "cell_type": "markdown",
   "metadata": {},
   "source": [
    "# Nord Data"
   ]
  },
  {
   "cell_type": "code",
   "execution_count": 4,
   "metadata": {},
   "outputs": [],
   "source": [
    "import h5py\n",
    "hf = h5py.File('../data/data_astro_sim_v20190509_samescale.h5', 'r')\n",
    "data = hf.get('imageset')"
   ]
  },
  {
   "cell_type": "markdown",
   "metadata": {},
   "source": [
    "Below are two measurements of the same (synthetic) region of the sky."
   ]
  },
  {
   "cell_type": "code",
   "execution_count": 26,
   "metadata": {},
   "outputs": [
    {
     "data": {
      "image/png": "[encoded data removed]",
      "text/plain": [
       "<Figure size 432x288 with 1 Axes>"
      ]
     },
     "metadata": {},
     "output_type": "display_data"
    }
   ],
   "source": [
    "show(data[0,0], vmax = 3)"
   ]
  },
  {
   "cell_type": "code",
   "execution_count": 27,
   "metadata": {},
   "outputs": [
    {
     "data": {
      "image/png": "[encoded data removed]",
      "text/plain": [
       "<Figure size 432x288 with 1 Axes>"
      ]
     },
     "metadata": {},
     "output_type": "display_data"
    }
   ],
   "source": [
    " show(data[0,1], vmax = 3)"
   ]
  },
  {
   "cell_type": "markdown",
   "metadata": {},
   "source": [
    "# Model"
   ]
  },
  {
   "cell_type": "markdown",
   "metadata": {},
   "source": [
    "For our model, we use a short UNet with two levels of up- and down- sampling"
   ]
  },
  {
   "cell_type": "code",
   "execution_count": 7,
   "metadata": {},
   "outputs": [],
   "source": [
    "from models.babyunet import BabyUnet\n",
    "model = BabyUnet()"
   ]
  },
  {
   "cell_type": "code",
   "execution_count": 8,
   "metadata": {},
   "outputs": [],
   "source": [
    "from util import getbestgpu\n",
    "# device = getbestgpu()\n",
    "device = 0"
   ]
  },
  {
   "cell_type": "code",
   "execution_count": 9,
   "metadata": {},
   "outputs": [],
   "source": [
    "model = model.to(device)"
   ]
  },
  {
   "cell_type": "markdown",
   "metadata": {},
   "source": [
    "# Training"
   ]
  },
  {
   "cell_type": "code",
   "execution_count": 10,
   "metadata": {},
   "outputs": [],
   "source": [
    "from torch.nn import MSELoss\n",
    "from torch.optim import Adam\n",
    "from torch.utils.data import DataLoader\n",
    "import torch\n",
    "loss_function = MSELoss()\n",
    "optimizer = Adam(model.parameters(), lr=0.0003)"
   ]
  },
  {
   "cell_type": "code",
   "execution_count": 11,
   "metadata": {},
   "outputs": [],
   "source": [
    "data_loader = DataLoader(data, batch_size=32, shuffle=False)"
   ]
  },
  {
   "cell_type": "code",
   "execution_count": 12,
   "metadata": {},
   "outputs": [
    {
     "name": "stdout",
     "output_type": "stream",
     "text": [
      "Loss ( 0 ): \t 0.3597\n",
      "Loss ( 10 ): \t 0.1499\n",
      "Loss ( 20 ): \t 0.1261\n",
      "Loss ( 30 ): \t 0.1188\n",
      "Loss ( 40 ): \t 0.1127\n",
      "Loss ( 50 ): \t 0.1093\n",
      "Loss ( 60 ): \t 0.1105\n",
      "Loss ( 70 ): \t 0.1082\n",
      "Loss ( 80 ): \t 0.1049\n",
      "Loss ( 90 ): \t 0.1066\n",
      "Loss ( 100 ): \t 0.1043\n",
      "Loss ( 110 ): \t 0.1043\n",
      "Loss ( 120 ): \t 0.1029\n",
      "Loss ( 130 ): \t 0.1036\n",
      "Loss ( 140 ): \t 0.1017\n",
      "Loss ( 150 ): \t 0.1012\n",
      "Loss ( 160 ): \t 0.1018\n",
      "Loss ( 170 ): \t 0.103\n",
      "Loss ( 180 ): \t 0.1012\n",
      "Loss ( 190 ): \t 0.1001\n",
      "Loss ( 200 ): \t 0.1023\n",
      "Loss ( 210 ): \t 0.1007\n",
      "Loss ( 220 ): \t 0.1023\n",
      "Loss ( 230 ): \t 0.1019\n",
      "Loss ( 240 ): \t 0.1015\n",
      "Loss ( 250 ): \t 0.1005\n",
      "Loss ( 260 ): \t 0.1004\n",
      "Loss ( 270 ): \t 0.1015\n",
      "Loss ( 280 ): \t 0.0997\n",
      "Loss ( 290 ): \t 0.1007\n",
      "Loss ( 300 ): \t 0.0998\n",
      "Loss ( 310 ): \t 0.1005\n",
      "Loss ( 0 ): \t 0.1008\n",
      "Loss ( 10 ): \t 0.0998\n",
      "Loss ( 20 ): \t 0.0987\n",
      "Loss ( 30 ): \t 0.101\n",
      "Loss ( 40 ): \t 0.0997\n",
      "Loss ( 50 ): \t 0.0994\n",
      "Loss ( 60 ): \t 0.102\n",
      "Loss ( 70 ): \t 0.1019\n",
      "Loss ( 80 ): \t 0.0994\n",
      "Loss ( 90 ): \t 0.1019\n",
      "Loss ( 100 ): \t 0.1009\n",
      "Loss ( 110 ): \t 0.1013\n",
      "Loss ( 120 ): \t 0.1005\n",
      "Loss ( 130 ): \t 0.1016\n",
      "Loss ( 140 ): \t 0.1\n",
      "Loss ( 150 ): \t 0.0996\n",
      "Loss ( 160 ): \t 0.1005\n",
      "Loss ( 170 ): \t 0.1018\n",
      "Loss ( 180 ): \t 0.1002\n",
      "Loss ( 190 ): \t 0.0991\n",
      "Loss ( 200 ): \t 0.1012\n",
      "Loss ( 210 ): \t 0.0998\n",
      "Loss ( 220 ): \t 0.1016\n",
      "Loss ( 230 ): \t 0.1011\n",
      "Loss ( 240 ): \t 0.1008\n",
      "Loss ( 250 ): \t 0.0998\n",
      "Loss ( 260 ): \t 0.0998\n",
      "Loss ( 270 ): \t 0.1007\n",
      "Loss ( 280 ): \t 0.0991\n",
      "Loss ( 290 ): \t 0.1002\n",
      "Loss ( 300 ): \t 0.0993\n",
      "Loss ( 310 ): \t 0.1001\n",
      "Loss ( 0 ): \t 0.1004\n",
      "Loss ( 10 ): \t 0.0993\n",
      "Loss ( 20 ): \t 0.0983\n",
      "Loss ( 30 ): \t 0.1006\n",
      "Loss ( 40 ): \t 0.0993\n",
      "Loss ( 50 ): \t 0.0991\n",
      "Loss ( 60 ): \t 0.1016\n",
      "Loss ( 70 ): \t 0.1016\n",
      "Loss ( 80 ): \t 0.0991\n",
      "Loss ( 90 ): \t 0.1016\n",
      "Loss ( 100 ): \t 0.1006\n",
      "Loss ( 110 ): \t 0.101\n",
      "Loss ( 120 ): \t 0.1002\n",
      "Loss ( 130 ): \t 0.1013\n",
      "Loss ( 140 ): \t 0.0998\n",
      "Loss ( 150 ): \t 0.0993\n",
      "Loss ( 160 ): \t 0.1002\n",
      "Loss ( 170 ): \t 0.1015\n",
      "Loss ( 180 ): \t 0.1\n",
      "Loss ( 190 ): \t 0.0989\n",
      "Loss ( 200 ): \t 0.1009\n",
      "Loss ( 210 ): \t 0.0996\n",
      "Loss ( 220 ): \t 0.1014\n",
      "Loss ( 230 ): \t 0.1009\n",
      "Loss ( 240 ): \t 0.1006\n",
      "Loss ( 250 ): \t 0.0996\n",
      "Loss ( 260 ): \t 0.0996\n",
      "Loss ( 270 ): \t 0.1005\n",
      "Loss ( 280 ): \t 0.0989\n",
      "Loss ( 290 ): \t 0.1001\n",
      "Loss ( 300 ): \t 0.0991\n",
      "Loss ( 310 ): \t 0.0999\n"
     ]
    }
   ],
   "source": [
    "n_epochs = 1\n",
    "for epoch in range(n_epochs):\n",
    "    for i, batch in enumerate(data_loader):\n",
    "        batch = batch.to(torch.float)\n",
    "        noisy_images_1, noisy_images_2 = batch[:,0:1], batch[:,1:2]\n",
    "        noisy_images_1 = noisy_images_1.to(device)\n",
    "        noisy_images_2 = noisy_images_2.to(device)\n",
    "\n",
    "        net_output = model(noisy_images_1)\n",
    "\n",
    "        loss = loss_function(net_output, noisy_images_2)\n",
    "\n",
    "        optimizer.zero_grad()\n",
    "\n",
    "        loss.backward()\n",
    "\n",
    "        optimizer.step()\n",
    "\n",
    "        if i % 10 == 0:\n",
    "            print(\"Loss (\", i, \"): \\t\", round(loss.item(), 4))"
   ]
  },
  {
   "cell_type": "code",
   "execution_count": 28,
   "metadata": {},
   "outputs": [],
   "source": [
    "test_data_loader = DataLoader(data,\n",
    "                              batch_size=32,\n",
    "                              shuffle=False)\n",
    "i, test_batch = next(enumerate(test_data_loader))\n",
    "test_batch = test_batch.to(torch.float)\n",
    "noisy_images_1, noisy_images_2 = test_batch[:,0:1], test_batch[:,1:2]\n",
    "noisy_images_1 = noisy_images_1.to(device)\n",
    "noisy_images_2 = noisy_images_2.to(device)"
   ]
  },
  {
   "cell_type": "code",
   "execution_count": 30,
   "metadata": {},
   "outputs": [
    {
     "data": {
      "image/png": "[encoded data removed]",
      "text/plain": [
       "<Figure size 1152x288 with 4 Axes>"
      ]
     },
     "metadata": {},
     "output_type": "display_data"
    }
   ],
   "source": [
    "output = model(noisy_images_1.to(device))\n",
    "idx = 12\n",
    "plot_tensors([noisy_images_1[idx],\n",
    "              noisy_images_2[idx],\n",
    "              0.5*(noisy_images_1[idx] + noisy_images_2[idx]),\n",
    "              output[idx]],\n",
    "            [\"Noisy Image 1\", \"Noisy Image 2\", \"Average of Noisy\", \"Net Output\"])"
   ]
  }
 ],
 "metadata": {
  "kernelspec": {
   "display_name": "Python (pytorch)",
   "language": "python",
   "name": "pytorch"
  },
  "language_info": {
   "codemirror_mode": {
    "name": "ipython",
    "version": 3
   },
   "file_extension": ".py",
   "mimetype": "text/x-python",
   "name": "python",
   "nbconvert_exporter": "python",
   "pygments_lexer": "ipython3",
   "version": "3.6.7"
  }
 },
 "nbformat": 4,
 "nbformat_minor": 2
}
